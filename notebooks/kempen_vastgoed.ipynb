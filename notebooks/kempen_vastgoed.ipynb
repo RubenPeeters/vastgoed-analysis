{
 "cells": [
  {
   "cell_type": "code",
   "execution_count": null,
   "id": "6dbbfaa1",
   "metadata": {},
   "outputs": [],
   "source": [
    "import matplotlib as mpl\n",
    "import seaborn as sns\n",
    "import bokeh as bk\n",
    "import numpy as np\n",
    "import pandas as pd"
   ]
  }
 ],
 "metadata": {
  "kernelspec": {
   "display_name": "vastgoed (3.10.13)",
   "language": "python",
   "name": "python3"
  },
  "language_info": {
   "name": "python",
   "version": "3.10.13"
  }
 },
 "nbformat": 4,
 "nbformat_minor": 5
}
